{
  "nbformat": 4,
  "nbformat_minor": 0,
  "metadata": {
    "colab": {
      "name": "MailSpam.ipynb",
      "provenance": [],
      "authorship_tag": "ABX9TyMwkn3hA0pjdDAJ6+g/dZ+7",
      "include_colab_link": true
    },
    "kernelspec": {
      "name": "python3",
      "display_name": "Python 3"
    },
    "language_info": {
      "name": "python"
    }
  },
  "cells": [
    {
      "cell_type": "markdown",
      "metadata": {
        "id": "view-in-github",
        "colab_type": "text"
      },
      "source": [
        "<a href=\"https://colab.research.google.com/github/ShreyaNavya/Spam-mail/blob/main/MailSpam.ipynb\" target=\"_parent\"><img src=\"https://colab.research.google.com/assets/colab-badge.svg\" alt=\"Open In Colab\"/></a>"
      ]
    },
    {
      "cell_type": "code",
      "execution_count": 20,
      "metadata": {
        "id": "AH9CIRa4s_Jg"
      },
      "outputs": [],
      "source": [
        "#detects if email is spam or not!\n",
        "import numpy as np\n",
        "import pandas as pd\n",
        "from sklearn.model_selection import train_test_split\n",
        "from sklearn.feature_extraction.text import TfidfVectorizer\n",
        "from sklearn.svm import LinearSVC\n",
        "from sklearn.metrics import accuracy_score\n",
        "#from nltk.corpus import stopwords"
      ]
    },
    {
      "cell_type": "code",
      "source": [
        "#csv file session storage me upload h..so jb v prgrm run krte tym file import krna h fir copy path krke strt se prgrm run hoga!\n",
        "raw_mail_data=pd.read_csv(\"/content/spam_ham_dataset.csv\")\n",
        "#replace the null values with a null string\n",
        "mail_data= raw_mail_data.where((pd.notnull(raw_mail_data)), '')"
      ],
      "metadata": {
        "id": "3HzakwkbyAO0"
      },
      "execution_count": 8,
      "outputs": []
    },
    {
      "cell_type": "code",
      "source": [
        "mail_data.shape"
      ],
      "metadata": {
        "colab": {
          "base_uri": "https://localhost:8080/"
        },
        "id": "GkBRQIVL1XsX",
        "outputId": "29ea5644-76e9-4998-f048-ade16210c169"
      },
      "execution_count": 9,
      "outputs": [
        {
          "output_type": "execute_result",
          "data": {
            "text/plain": [
              "(5171, 4)"
            ]
          },
          "metadata": {},
          "execution_count": 9
        }
      ]
    },
    {
      "cell_type": "code",
      "source": [
        "mail_data.head() #sample data"
      ],
      "metadata": {
        "colab": {
          "base_uri": "https://localhost:8080/",
          "height": 206
        },
        "id": "3C8EdsmK1gNv",
        "outputId": "f4f7bc35-31fe-4f62-8569-c2c6ef1da742"
      },
      "execution_count": 10,
      "outputs": [
        {
          "output_type": "execute_result",
          "data": {
            "text/plain": [
              "   Unnamed: 0 label                                               text  \\\n",
              "0         605   ham  Subject: enron methanol ; meter # : 988291\\r\\n...   \n",
              "1        2349   ham  Subject: hpl nom for january 9 , 2001\\r\\n( see...   \n",
              "2        3624   ham  Subject: neon retreat\\r\\nho ho ho , we ' re ar...   \n",
              "3        4685  spam  Subject: photoshop , windows , office . cheap ...   \n",
              "4        2030   ham  Subject: re : indian springs\\r\\nthis deal is t...   \n",
              "\n",
              "   label_num  \n",
              "0          0  \n",
              "1          0  \n",
              "2          0  \n",
              "3          1  \n",
              "4          0  "
            ],
            "text/html": [
              "\n",
              "  <div id=\"df-1dc2622a-61f8-4c4a-87b2-5543d1bd935d\">\n",
              "    <div class=\"colab-df-container\">\n",
              "      <div>\n",
              "<style scoped>\n",
              "    .dataframe tbody tr th:only-of-type {\n",
              "        vertical-align: middle;\n",
              "    }\n",
              "\n",
              "    .dataframe tbody tr th {\n",
              "        vertical-align: top;\n",
              "    }\n",
              "\n",
              "    .dataframe thead th {\n",
              "        text-align: right;\n",
              "    }\n",
              "</style>\n",
              "<table border=\"1\" class=\"dataframe\">\n",
              "  <thead>\n",
              "    <tr style=\"text-align: right;\">\n",
              "      <th></th>\n",
              "      <th>Unnamed: 0</th>\n",
              "      <th>label</th>\n",
              "      <th>text</th>\n",
              "      <th>label_num</th>\n",
              "    </tr>\n",
              "  </thead>\n",
              "  <tbody>\n",
              "    <tr>\n",
              "      <th>0</th>\n",
              "      <td>605</td>\n",
              "      <td>ham</td>\n",
              "      <td>Subject: enron methanol ; meter # : 988291\\r\\n...</td>\n",
              "      <td>0</td>\n",
              "    </tr>\n",
              "    <tr>\n",
              "      <th>1</th>\n",
              "      <td>2349</td>\n",
              "      <td>ham</td>\n",
              "      <td>Subject: hpl nom for january 9 , 2001\\r\\n( see...</td>\n",
              "      <td>0</td>\n",
              "    </tr>\n",
              "    <tr>\n",
              "      <th>2</th>\n",
              "      <td>3624</td>\n",
              "      <td>ham</td>\n",
              "      <td>Subject: neon retreat\\r\\nho ho ho , we ' re ar...</td>\n",
              "      <td>0</td>\n",
              "    </tr>\n",
              "    <tr>\n",
              "      <th>3</th>\n",
              "      <td>4685</td>\n",
              "      <td>spam</td>\n",
              "      <td>Subject: photoshop , windows , office . cheap ...</td>\n",
              "      <td>1</td>\n",
              "    </tr>\n",
              "    <tr>\n",
              "      <th>4</th>\n",
              "      <td>2030</td>\n",
              "      <td>ham</td>\n",
              "      <td>Subject: re : indian springs\\r\\nthis deal is t...</td>\n",
              "      <td>0</td>\n",
              "    </tr>\n",
              "  </tbody>\n",
              "</table>\n",
              "</div>\n",
              "      <button class=\"colab-df-convert\" onclick=\"convertToInteractive('df-1dc2622a-61f8-4c4a-87b2-5543d1bd935d')\"\n",
              "              title=\"Convert this dataframe to an interactive table.\"\n",
              "              style=\"display:none;\">\n",
              "        \n",
              "  <svg xmlns=\"http://www.w3.org/2000/svg\" height=\"24px\"viewBox=\"0 0 24 24\"\n",
              "       width=\"24px\">\n",
              "    <path d=\"M0 0h24v24H0V0z\" fill=\"none\"/>\n",
              "    <path d=\"M18.56 5.44l.94 2.06.94-2.06 2.06-.94-2.06-.94-.94-2.06-.94 2.06-2.06.94zm-11 1L8.5 8.5l.94-2.06 2.06-.94-2.06-.94L8.5 2.5l-.94 2.06-2.06.94zm10 10l.94 2.06.94-2.06 2.06-.94-2.06-.94-.94-2.06-.94 2.06-2.06.94z\"/><path d=\"M17.41 7.96l-1.37-1.37c-.4-.4-.92-.59-1.43-.59-.52 0-1.04.2-1.43.59L10.3 9.45l-7.72 7.72c-.78.78-.78 2.05 0 2.83L4 21.41c.39.39.9.59 1.41.59.51 0 1.02-.2 1.41-.59l7.78-7.78 2.81-2.81c.8-.78.8-2.07 0-2.86zM5.41 20L4 18.59l7.72-7.72 1.47 1.35L5.41 20z\"/>\n",
              "  </svg>\n",
              "      </button>\n",
              "      \n",
              "  <style>\n",
              "    .colab-df-container {\n",
              "      display:flex;\n",
              "      flex-wrap:wrap;\n",
              "      gap: 12px;\n",
              "    }\n",
              "\n",
              "    .colab-df-convert {\n",
              "      background-color: #E8F0FE;\n",
              "      border: none;\n",
              "      border-radius: 50%;\n",
              "      cursor: pointer;\n",
              "      display: none;\n",
              "      fill: #1967D2;\n",
              "      height: 32px;\n",
              "      padding: 0 0 0 0;\n",
              "      width: 32px;\n",
              "    }\n",
              "\n",
              "    .colab-df-convert:hover {\n",
              "      background-color: #E2EBFA;\n",
              "      box-shadow: 0px 1px 2px rgba(60, 64, 67, 0.3), 0px 1px 3px 1px rgba(60, 64, 67, 0.15);\n",
              "      fill: #174EA6;\n",
              "    }\n",
              "\n",
              "    [theme=dark] .colab-df-convert {\n",
              "      background-color: #3B4455;\n",
              "      fill: #D2E3FC;\n",
              "    }\n",
              "\n",
              "    [theme=dark] .colab-df-convert:hover {\n",
              "      background-color: #434B5C;\n",
              "      box-shadow: 0px 1px 3px 1px rgba(0, 0, 0, 0.15);\n",
              "      filter: drop-shadow(0px 1px 2px rgba(0, 0, 0, 0.3));\n",
              "      fill: #FFFFFF;\n",
              "    }\n",
              "  </style>\n",
              "\n",
              "      <script>\n",
              "        const buttonEl =\n",
              "          document.querySelector('#df-1dc2622a-61f8-4c4a-87b2-5543d1bd935d button.colab-df-convert');\n",
              "        buttonEl.style.display =\n",
              "          google.colab.kernel.accessAllowed ? 'block' : 'none';\n",
              "\n",
              "        async function convertToInteractive(key) {\n",
              "          const element = document.querySelector('#df-1dc2622a-61f8-4c4a-87b2-5543d1bd935d');\n",
              "          const dataTable =\n",
              "            await google.colab.kernel.invokeFunction('convertToInteractive',\n",
              "                                                     [key], {});\n",
              "          if (!dataTable) return;\n",
              "\n",
              "          const docLinkHtml = 'Like what you see? Visit the ' +\n",
              "            '<a target=\"_blank\" href=https://colab.research.google.com/notebooks/data_table.ipynb>data table notebook</a>'\n",
              "            + ' to learn more about interactive tables.';\n",
              "          element.innerHTML = '';\n",
              "          dataTable['output_type'] = 'display_data';\n",
              "          await google.colab.output.renderOutput(dataTable, element);\n",
              "          const docLink = document.createElement('div');\n",
              "          docLink.innerHTML = docLinkHtml;\n",
              "          element.appendChild(docLink);\n",
              "        }\n",
              "      </script>\n",
              "    </div>\n",
              "  </div>\n",
              "  "
            ]
          },
          "metadata": {},
          "execution_count": 10
        }
      ]
    },
    {
      "cell_type": "code",
      "source": [
        "#label spam wala 0, non-spam (ham) wala 1.\n",
        "mail_data.loc[mail_data['label']=='spam','label',]=0\n",
        "mail_data.loc[mail_data['label']=='ham','label',]=1"
      ],
      "metadata": {
        "id": "KtFVKTbS1woQ"
      },
      "execution_count": 11,
      "outputs": []
    },
    {
      "cell_type": "code",
      "source": [
        "#seperate the data as text & label, X is text, Y is label.\n",
        "X=mail_data['text']\n",
        "Y=mail_data['label']"
      ],
      "metadata": {
        "id": "w8Zr0sDJ3N0J"
      },
      "execution_count": 12,
      "outputs": []
    },
    {
      "cell_type": "code",
      "source": [
        "print(X)\n",
        "print('//////////')\n",
        "print(Y)"
      ],
      "metadata": {
        "colab": {
          "base_uri": "https://localhost:8080/"
        },
        "id": "EwkpYADx3qSY",
        "outputId": "1d154615-d84e-4b62-f0b8-a3807348c4fd"
      },
      "execution_count": 13,
      "outputs": [
        {
          "output_type": "stream",
          "name": "stdout",
          "text": [
            "0       Subject: enron methanol ; meter # : 988291\\r\\n...\n",
            "1       Subject: hpl nom for january 9 , 2001\\r\\n( see...\n",
            "2       Subject: neon retreat\\r\\nho ho ho , we ' re ar...\n",
            "3       Subject: photoshop , windows , office . cheap ...\n",
            "4       Subject: re : indian springs\\r\\nthis deal is t...\n",
            "                              ...                        \n",
            "5166    Subject: put the 10 on the ft\\r\\nthe transport...\n",
            "5167    Subject: 3 / 4 / 2000 and following noms\\r\\nhp...\n",
            "5168    Subject: calpine daily gas nomination\\r\\n>\\r\\n...\n",
            "5169    Subject: industrial worksheets for august 2000...\n",
            "5170    Subject: important online banking alert\\r\\ndea...\n",
            "Name: text, Length: 5171, dtype: object\n",
            "//////////\n",
            "0       1\n",
            "1       1\n",
            "2       1\n",
            "3       0\n",
            "4       1\n",
            "       ..\n",
            "5166    1\n",
            "5167    1\n",
            "5168    1\n",
            "5169    1\n",
            "5170    0\n",
            "Name: label, Length: 5171, dtype: object\n"
          ]
        }
      ]
    },
    {
      "cell_type": "code",
      "source": [
        "#Train Test split!\n",
        "#split the data as test data & train data.\n",
        "X_train, X_test, Y_train, Y_test=train_test_split(X,Y,train_size=0.8,test_size=0.2)"
      ],
      "metadata": {
        "id": "JYMpVUV94CXz"
      },
      "execution_count": 25,
      "outputs": []
    },
    {
      "cell_type": "code",
      "source": [
        "#transform the text data to feature vectors that can be used as input to the Svm model using Tfidvectorizer.\n",
        "#convrt the text to lower case lettrs.\n",
        "feature_extraction=TfidfVectorizer(min_df=1, stop_words='english',lowercase='True')\n",
        "X_train_features=feature_extraction.fit_transform(X_train)\n",
        "X_test_features=feature_extraction.transform(X_test)\n",
        "\n",
        "#X_test_features=feature_extraction.fit_transform(X_test)\n",
        "#convrt Y_train & Y_test values as integrs.\n",
        "Y_train=Y_train.astype('int')\n",
        "Y_test=Y_test.astype('int')"
      ],
      "metadata": {
        "id": "0NjWUOa35aJA"
      },
      "execution_count": 53,
      "outputs": []
    },
    {
      "cell_type": "code",
      "source": [
        "#Training the model -> SVM\n",
        "#training the svm model with training data.\n",
        "model = LinearSVC(verbose=0)\n",
        "model.fit(X_train_features, Y_train)"
      ],
      "metadata": {
        "colab": {
          "base_uri": "https://localhost:8080/"
        },
        "id": "0rmLRYQl7EJe",
        "outputId": "f45e129e-8bfe-4556-b703-ba845462cc5e"
      },
      "execution_count": 49,
      "outputs": [
        {
          "output_type": "execute_result",
          "data": {
            "text/plain": [
              "LinearSVC()"
            ]
          },
          "metadata": {},
          "execution_count": 49
        }
      ]
    },
    {
      "cell_type": "code",
      "source": [
        "#prediction on training data.\n",
        "#prediction_on_training_data=model.predict(X_train_features) or,\n",
        "accuracy_on_training_data=model.score(X_train_features, Y_train)"
      ],
      "metadata": {
        "id": "2hxQgcYj74-6"
      },
      "execution_count": 50,
      "outputs": []
    },
    {
      "cell_type": "code",
      "source": [
        "print(\"Accuracy: \",accuracy_on_training_data)"
      ],
      "metadata": {
        "colab": {
          "base_uri": "https://localhost:8080/"
        },
        "id": "ta51WXr69CQE",
        "outputId": "850127e7-7332-46e6-b22d-f8e496c65d98"
      },
      "execution_count": 51,
      "outputs": [
        {
          "output_type": "stream",
          "name": "stdout",
          "text": [
            "Accuracy:  1.0\n"
          ]
        }
      ]
    },
    {
      "cell_type": "code",
      "source": [
        "#model.predict(X_test_features)\n",
        "prediction_on_test_data = model.predict(X_test_features)\n",
        "accuracy_on_test_data=accuracy_score(Y_test,prediction_on_test_data)"
      ],
      "metadata": {
        "id": "YEJuwjP69Qiz"
      },
      "execution_count": 54,
      "outputs": []
    },
    {
      "cell_type": "code",
      "source": [
        "print(\"Accuracy: \",accuracy_on_test_data)"
      ],
      "metadata": {
        "id": "PSKzN6yN92kA",
        "colab": {
          "base_uri": "https://localhost:8080/"
        },
        "outputId": "02a34524-e2a2-4ef7-db84-d9c5fd516fd5"
      },
      "execution_count": 45,
      "outputs": [
        {
          "output_type": "stream",
          "name": "stdout",
          "text": [
            "Accuracy:  0.9932367149758454\n"
          ]
        }
      ]
    },
    {
      "cell_type": "code",
      "source": [
        "#prediction on new mail.\n",
        "input_mail=[\"Subject: february & january 2000 industrial activities this means of communication is used because of trading hour .fyi . . . only : ve some links for february to true - up today and will finalize them by the end of today . i will review january industrial activity { alloc . , links / buybacks , ect . } by the end of tomorrow , tuesday . i will be taking vacation this friday , feb 11 th and monday , feb 14 th .\"]\n",
        "#cnvrt text to feature  vectors.\n",
        "input_mail_features=feature_extraction.transform(input_mail)\n",
        "#make predictns.\n",
        "prediction=model.predict(input_mail_features)\n",
        "print(prediction)\n",
        "if(prediction[0]==1):\n",
        "  print(\"HAM MAIL!!\")\n",
        "else:\n",
        "  print (\"SPAM MAIL!!\")"
      ],
      "metadata": {
        "colab": {
          "base_uri": "https://localhost:8080/"
        },
        "id": "7TGUOj4yX7Vm",
        "outputId": "6c7cb6b6-3a92-4483-efef-21ee8cf69929"
      },
      "execution_count": 55,
      "outputs": [
        {
          "output_type": "stream",
          "name": "stdout",
          "text": [
            "[1]\n",
            "HAM MAIL!!\n"
          ]
        }
      ]
    },
    {
      "cell_type": "markdown",
      "source": [
        "*Thank you!!*"
      ],
      "metadata": {
        "id": "duTO48vbb3-_"
      }
    }
  ]
}